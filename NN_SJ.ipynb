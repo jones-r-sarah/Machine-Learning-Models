{
 "cells": [
  {
   "cell_type": "code",
   "execution_count": 13,
   "id": "a5f052e9-ce50-4335-b25a-b5d211995cab",
   "metadata": {},
   "outputs": [
    {
     "name": "stdout",
     "output_type": "stream",
     "text": [
      "Accuracy on training set: 0.973\n",
      "Accuracy on test set: 0.947\n"
     ]
    },
    {
     "name": "stderr",
     "output_type": "stream",
     "text": [
      "C:\\Users\\jones\\anaconda3\\Lib\\site-packages\\sklearn\\neural_network\\_multilayer_perceptron.py:691: ConvergenceWarning: Stochastic Optimizer: Maximum iterations (200) reached and the optimization hasn't converged yet.\n",
      "  warnings.warn(\n"
     ]
    }
   ],
   "source": [
    "#importing packages \n",
    "from sklearn import datasets\n",
    "from sklearn.neural_network import MLPClassifier\n",
    "from sklearn.model_selection import train_test_split\n",
    "\n",
    "#data \n",
    "iris = datasets.load_iris()\n",
    "x = iris.data\n",
    "y = iris.target\n",
    "\n",
    "#spliting data into train and test sets\n",
    "x_train, x_test, y_train, y_test = train_test_split( x, y, random_state = 0)\n",
    "\n",
    "#model code\n",
    "mlp = MLPClassifier(random_state = 42)\n",
    "mlp.fit(x_train, y_train)\n",
    "\n",
    "#print statements\n",
    "print(\"Accuracy on training set: {:.3f}\".format(mlp.score(x_train, y_train)))\n",
    "print(\"Accuracy on test set: {:.3f}\".format(mlp.score(x_test, y_test)))"
   ]
  },
  {
   "cell_type": "code",
   "execution_count": 7,
   "id": "88367557-90fc-4f21-8b4c-d39fa017f027",
   "metadata": {},
   "outputs": [
    {
     "name": "stdout",
     "output_type": "stream",
     "text": [
      "Accuracy on training set: 0.982\n",
      "Accuracy on test set: 0.974\n"
     ]
    }
   ],
   "source": [
    "#scaling our data to have a mean of 0 and standard deviation of 1 \n",
    "\n",
    "#compute the mean\n",
    "mean_on_train = x_train.mean(axis = 0)\n",
    "#cmpute standard deviation\n",
    "std_on_train = x_train.std(axis = 0)\n",
    "#subtracting the mean and scale by inverse standard deviation\n",
    "x_train_scaled = (x_train - mean_on_train) / std_on_train\n",
    "x_test_scaled = (x_test - mean_on_train) / std_on_train\n",
    "\n",
    "#model code\n",
    "#adding max iteration to the model\n",
    "mlp = MLPClassifier(max_iter = 1000, random_state = 0)\n",
    "mlp.fit(x_train_scaled, y_train)\n",
    "\n",
    "#print accuracy \n",
    "print(\"Accuracy on training set: {:.3f}\".format(mlp.score(x_train_scaled, y_train)))\n",
    "print(\"Accuracy on test set: {:.3f}\".format(mlp.score(x_test_scaled, y_test)))"
   ]
  },
  {
   "cell_type": "code",
   "execution_count": 16,
   "id": "2734b57c-879a-4b7a-9b0d-456aaef5ee79",
   "metadata": {},
   "outputs": [
    {
     "name": "stdout",
     "output_type": "stream",
     "text": [
      "Accuracy on training set: 0.973\n",
      "Accuracy on test set: 0.974\n"
     ]
    }
   ],
   "source": [
    "#changing alpha parameter from 0.0001 to 1 to add a stronger regularization \n",
    "mlp = MLPClassifier(max_iter = 1000, alpha = 1, random_state = 42)\n",
    "mlp.fit(x_train_scaled, y_train)\n",
    "\n",
    "#print statements\n",
    "print(\"Accuracy on training set: {:.3f}\".format(mlp.score(x_train_scaled, y_train)))\n",
    "print(\"Accuracy on test set: {:.3f}\".format(mlp.score(x_test_scaled, y_test)))"
   ]
  },
  {
   "cell_type": "code",
   "execution_count": null,
   "id": "424a3c6d-d217-4ac8-87c6-029abbbb3c9d",
   "metadata": {},
   "outputs": [],
   "source": []
  }
 ],
 "metadata": {
  "kernelspec": {
   "display_name": "Python 3 (ipykernel)",
   "language": "python",
   "name": "python3"
  },
  "language_info": {
   "codemirror_mode": {
    "name": "ipython",
    "version": 3
   },
   "file_extension": ".py",
   "mimetype": "text/x-python",
   "name": "python",
   "nbconvert_exporter": "python",
   "pygments_lexer": "ipython3",
   "version": "3.12.4"
  }
 },
 "nbformat": 4,
 "nbformat_minor": 5
}
