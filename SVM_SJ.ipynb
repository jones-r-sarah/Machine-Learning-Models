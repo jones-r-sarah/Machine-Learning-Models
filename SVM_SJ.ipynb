{
 "cells": [
  {
   "cell_type": "code",
   "execution_count": 9,
   "id": "f748b06c-12ee-4098-8bc9-413d77baec87",
   "metadata": {},
   "outputs": [
    {
     "name": "stdout",
     "output_type": "stream",
     "text": [
      "Accuracy on train set: 0.96\n",
      "Accuracy on test set: 0.97\n"
     ]
    }
   ],
   "source": [
    "#importing packages \n",
    "from sklearn import datasets\n",
    "from sklearn.svm import SVC\n",
    "from sklearn.model_selection import train_test_split\n",
    "\n",
    "#data \n",
    "iris = datasets.load_iris()\n",
    "x = iris.data\n",
    "y = iris.target\n",
    "\n",
    "#spliting data into train and test sets\n",
    "x_train, x_test, y_train, y_test = train_test_split( x, y, random_state = 0)\n",
    "\n",
    "#model code\n",
    "svc = SVC()\n",
    "svc.fit(x_train, y_train)\n",
    "\n",
    "#print results\n",
    "print(\"Accuracy on train set: {:.2f}\".format(svc.score(x_train, y_train)))\n",
    "print(\"Accuracy on test set: {:.2f}\".format(svc.score(x_test, y_test)))"
   ]
  },
  {
   "cell_type": "code",
   "execution_count": 6,
   "id": "ebcb03c0-4206-4f47-a153-f1bcd335f07f",
   "metadata": {},
   "outputs": [
    {
     "name": "stdout",
     "output_type": "stream",
     "text": [
      "minimum for each feature\n",
      " [0. 0. 0. 0.]\n",
      "maximum for each feature\n",
      " [1. 1. 1. 1.]\n"
     ]
    }
   ],
   "source": [
    "#preprocessing \"by hand\"\n",
    "min_on_training = x_train.min(axis = 0)\n",
    "range_on_training = (x_train - min_on_training).max(axis = 0)\n",
    "\n",
    "x_train_scaled = (x_train - min_on_training) / range_on_training\n",
    "\n",
    "print(\"minimum for each feature\\n\", x_train_scaled.min(axis = 0))\n",
    "print(\"maximum for each feature\\n\", x_train_scaled.max(axis = 0))"
   ]
  },
  {
   "cell_type": "code",
   "execution_count": 7,
   "id": "76a7a525-928a-4f35-af4e-17008ff6a8eb",
   "metadata": {},
   "outputs": [
    {
     "name": "stdout",
     "output_type": "stream",
     "text": [
      "Accuracy on training set: 0.964\n",
      "Accuracy on test set: 0.974\n"
     ]
    }
   ],
   "source": [
    "#using the scaled values to test new accuracy\n",
    "x_test_scaled = (x_test - min_on_training) / range_on_training\n",
    "\n",
    "svc = SVC()\n",
    "svc.fit(x_train_scaled, y_train)\n",
    "\n",
    "#print new accuracy \n",
    "print(\"Accuracy on training set: {:.3f}\".format(svc.score(x_train_scaled, y_train)))\n",
    "print(\"Accuracy on test set: {:.3f}\".format(svc.score(x_test_scaled, y_test)))"
   ]
  },
  {
   "cell_type": "code",
   "execution_count": null,
   "id": "495f4f98-0680-4eca-8a38-773557bf3e6e",
   "metadata": {},
   "outputs": [],
   "source": []
  }
 ],
 "metadata": {
  "kernelspec": {
   "display_name": "Python 3 (ipykernel)",
   "language": "python",
   "name": "python3"
  },
  "language_info": {
   "codemirror_mode": {
    "name": "ipython",
    "version": 3
   },
   "file_extension": ".py",
   "mimetype": "text/x-python",
   "name": "python",
   "nbconvert_exporter": "python",
   "pygments_lexer": "ipython3",
   "version": "3.12.4"
  }
 },
 "nbformat": 4,
 "nbformat_minor": 5
}
