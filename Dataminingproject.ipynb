{
 "cells": [
  {
   "cell_type": "code",
   "execution_count": 2,
   "id": "21a61d9b-421d-4399-8878-cf03df85072b",
   "metadata": {},
   "outputs": [
    {
     "name": "stdout",
     "output_type": "stream",
     "text": [
      "Collecting apriori\n",
      "  Downloading apriori-1.0.0.tar.gz (1.8 kB)\n",
      "  Preparing metadata (setup.py): started\n",
      "  Preparing metadata (setup.py): finished with status 'done'\n",
      "Building wheels for collected packages: apriori\n",
      "  Building wheel for apriori (setup.py): started\n",
      "  Building wheel for apriori (setup.py): finished with status 'done'\n",
      "  Created wheel for apriori: filename=apriori-1.0.0-py3-none-any.whl size=2463 sha256=58a6c271dedf0ae1c58a0472834affa03b1fcdf9520afda9d1f2a180b9931cab\n",
      "  Stored in directory: c:\\users\\jones\\appdata\\local\\pip\\cache\\wheels\\42\\42\\e7\\ec4c18deb50ea29505d96a153528e9b3631dee38d34a1db60b\n",
      "Successfully built apriori\n",
      "Installing collected packages: apriori\n",
      "Successfully installed apriori-1.0.0\n"
     ]
    },
    {
     "name": "stderr",
     "output_type": "stream",
     "text": [
      "WARNING: Skipping C:\\Users\\jones\\anaconda3\\Lib\\site-packages\\certifi-2024.6.2.dist-info due to invalid metadata entry 'name'\n",
      "WARNING: Skipping C:\\Users\\jones\\anaconda3\\Lib\\site-packages\\conda-24.5.0.dist-info due to invalid metadata entry 'name'\n",
      "WARNING: Skipping C:\\Users\\jones\\anaconda3\\Lib\\site-packages\\certifi-2024.6.2.dist-info due to invalid metadata entry 'name'\n",
      "WARNING: Skipping C:\\Users\\jones\\anaconda3\\Lib\\site-packages\\conda-24.5.0.dist-info due to invalid metadata entry 'name'\n",
      "WARNING: Skipping C:\\Users\\jones\\anaconda3\\Lib\\site-packages\\certifi-2024.6.2.dist-info due to invalid metadata entry 'name'\n",
      "WARNING: Skipping C:\\Users\\jones\\anaconda3\\Lib\\site-packages\\conda-24.5.0.dist-info due to invalid metadata entry 'name'\n",
      "WARNING: Skipping C:\\Users\\jones\\anaconda3\\Lib\\site-packages\\certifi-2024.6.2.dist-info due to invalid metadata entry 'name'\n",
      "WARNING: Skipping C:\\Users\\jones\\anaconda3\\Lib\\site-packages\\conda-24.5.0.dist-info due to invalid metadata entry 'name'\n",
      "WARNING: Skipping C:\\Users\\jones\\anaconda3\\Lib\\site-packages\\certifi-2024.6.2.dist-info due to invalid metadata entry 'name'\n",
      "WARNING: Skipping C:\\Users\\jones\\anaconda3\\Lib\\site-packages\\conda-24.5.0.dist-info due to invalid metadata entry 'name'\n",
      "WARNING: Skipping C:\\Users\\jones\\anaconda3\\Lib\\site-packages\\certifi-2024.6.2.dist-info due to invalid metadata entry 'name'\n",
      "WARNING: Skipping C:\\Users\\jones\\anaconda3\\Lib\\site-packages\\conda-24.5.0.dist-info due to invalid metadata entry 'name'\n"
     ]
    }
   ],
   "source": [
    "!pip install apriori"
   ]
  },
  {
   "cell_type": "code",
   "execution_count": 3,
   "id": "b29f25e3-bd0e-44cb-a70e-b10ec289d01f",
   "metadata": {},
   "outputs": [
    {
     "ename": "ModuleNotFoundError",
     "evalue": "No module named 'apirori'",
     "output_type": "error",
     "traceback": [
      "\u001b[1;31m---------------------------------------------------------------------------\u001b[0m",
      "\u001b[1;31mModuleNotFoundError\u001b[0m                       Traceback (most recent call last)",
      "Cell \u001b[1;32mIn[3], line 1\u001b[0m\n\u001b[1;32m----> 1\u001b[0m \u001b[38;5;28;01mimport\u001b[39;00m \u001b[38;5;21;01mapirori\u001b[39;00m\n",
      "\u001b[1;31mModuleNotFoundError\u001b[0m: No module named 'apirori'"
     ]
    }
   ],
   "source": [
    "import apirori"
   ]
  },
  {
   "cell_type": "code",
   "execution_count": null,
   "id": "2c9103c9-94fc-49e6-b931-2051dbc009b1",
   "metadata": {},
   "outputs": [],
   "source": []
  }
 ],
 "metadata": {
  "kernelspec": {
   "display_name": "Python 3 (ipykernel)",
   "language": "python",
   "name": "python3"
  },
  "language_info": {
   "codemirror_mode": {
    "name": "ipython",
    "version": 3
   },
   "file_extension": ".py",
   "mimetype": "text/x-python",
   "name": "python",
   "nbconvert_exporter": "python",
   "pygments_lexer": "ipython3",
   "version": "3.12.4"
  }
 },
 "nbformat": 4,
 "nbformat_minor": 5
}
